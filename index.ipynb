{
 "cells": [
  {
   "cell_type": "markdown",
   "metadata": {},
   "source": [
    "## Introduction \n",
    "Solar energy installation is a significant investment, and estimating the energy output accurately before installation is crucial for stakeholders, such as energy companies, government agencies and homeowners. This can help improve budgeting, reduce unnecessary costs, and optimize resource allocation.\n",
    "## Problem Definition\n",
    " \n",
    "In recent years, the demand for renewable energy sources like solar power has increased significantly. Solar energy has a huge potential, but accurately predicting the energy potential from solar installations depends on various factors such as geographical location, building characteristics and environmental conditions. The goal of this project is to develop a predictive model that can estimate the energy potential for solar installations based on various input features.\n"
   ]
  },
  {
   "cell_type": "markdown",
   "metadata": {},
   "source": [
    "## Project Overview \n",
    "This project aims to develop a machine learning model to predict the energy potential per year for solar installations based on various features such as geographical location, surface area, installation type, and technical parameters like tilt and capacity factor. The ultimate goal is to help solar energy companies, investors, and policymakers make informed decisions about potential solar energy projects by accurately forecasting their energy output and identifying the most efficient installation strategies."
   ]
  },
  {
   "cell_type": "markdown",
   "metadata": {},
   "source": [
    "## Objectives \n",
    "1. Predict the energy potential for solar installations using available data features.\n",
    "2. Develop a robust machine learning model that can accurately predict the energy potential based on given features\n",
    "3. Evaluate and fine-tune the model using performance metrics such as RMSE and R-squared to ensure accuracy"
   ]
  },
  {
   "cell_type": "markdown",
   "metadata": {},
   "source": [
    "## Data Understanding \n",
    "### Source\n",
    "The data for this study is sourced from ENERGYDATA.INFO, an open data platform providing access to datasets that are relevant to energy sector.\n",
    "The data is available to governments, development organizations, private sector, non-governmental organizations, academia, civil society and individuals to share data and analytics that can help achieving the United Nations’ Sustainable Development Goal 7 of ensuring access to affordable, reliable, sustainable and modern energy for all. The data provides the perspective of Ethiopian Solar energy. \n"
   ]
  },
  {
   "cell_type": "markdown",
   "metadata": {},
   "source": [
    "### Data Description \n",
    "\n",
    "The dataset has 100 records and 10 features which are described below; \n",
    "\n",
    "Target Variable:\n",
    "\n",
    "*Energy_potential_per_year*: The amount of energy (in kilowatt-hours or similar units) the solar panels can potentially generate annually.\n",
    "\n",
    "Features:\n",
    "\n",
    "*City*: Location where the solar panels are installed, which affects the solar irradiance and, thus, the energy potential.\n",
    "\n",
    "*Surface_area*: The total surface area available for installing solar panels.\n",
    "\n",
    "*Potential_installable_area*: The effective area that can be used for solar panels, which will influence the energy potential.\n",
    "\n",
    "*Peak_installable_capacity*: The maximum energy the system can generate at peak performance, which is related to the energy potential.\n",
    "\n",
    "*Assumed_building_type*: Different building types may have varying impacts on energy efficiency.\n",
    "\n",
    "*Estimated_tilt*: The tilt angle of the panels affects their exposure to sunlight and, hence, the energy potential.\n",
    "\n",
    "*Estimated_building_height*: Taller buildings may have more or less solar potential depending on shading and surrounding structures.\n",
    "\n",
    "*Estimated_capacity_factor*: Represents the efficiency of the installation, affecting the annual energy yield.\n",
    "\n",
    "*Date_added* : The date of installation, which might give insights into changes in technology over time (e.g., improving solar panel efficiency)."
   ]
  },
  {
   "cell_type": "markdown",
   "metadata": {},
   "source": [
    "## Loading the data and Importing Libraries "
   ]
  },
  {
   "cell_type": "code",
   "execution_count": 64,
   "metadata": {},
   "outputs": [],
   "source": [
    "# import first batch of libraries \n",
    "import pandas as pd\n",
    "import numpy as np\n",
    "import matplotlib.pyplot as plt \n",
    "import seaborn as sns\n",
    "# Load the data\n",
    "data = pd.read_csv('./data/Ethiopia_SolarEnergy.csv')"
   ]
  },
  {
   "cell_type": "code",
   "execution_count": 65,
   "metadata": {},
   "outputs": [
    {
     "data": {
      "text/html": [
       "<div>\n",
       "<style scoped>\n",
       "    .dataframe tbody tr th:only-of-type {\n",
       "        vertical-align: middle;\n",
       "    }\n",
       "\n",
       "    .dataframe tbody tr th {\n",
       "        vertical-align: top;\n",
       "    }\n",
       "\n",
       "    .dataframe thead th {\n",
       "        text-align: right;\n",
       "    }\n",
       "</style>\n",
       "<table border=\"1\" class=\"dataframe\">\n",
       "  <thead>\n",
       "    <tr style=\"text-align: right;\">\n",
       "      <th></th>\n",
       "      <th>uuid</th>\n",
       "      <th>City</th>\n",
       "      <th>Surface_area</th>\n",
       "      <th>Potential_installable_area</th>\n",
       "      <th>Peak_installable_capacity</th>\n",
       "      <th>Energy_potential_per_year</th>\n",
       "      <th>Assumed_building_type</th>\n",
       "      <th>Estimated_tilt</th>\n",
       "      <th>Estimated_building_height</th>\n",
       "      <th>Estimated_capacity_factor</th>\n",
       "      <th>Unit_installation_price</th>\n",
       "      <th>Date_added</th>\n",
       "      <th>Comment</th>\n",
       "      <th>_inside_x</th>\n",
       "      <th>_inside_y</th>\n",
       "    </tr>\n",
       "  </thead>\n",
       "  <tbody>\n",
       "    <tr>\n",
       "      <th>0</th>\n",
       "      <td>69ec4f04-ab53-4df7-8ac9-d2bbe3d54bf0</td>\n",
       "      <td>Addis Ababa</td>\n",
       "      <td>103.80</td>\n",
       "      <td>60.43</td>\n",
       "      <td>11.71</td>\n",
       "      <td>18962.27</td>\n",
       "      <td>single family residential</td>\n",
       "      <td>8.49</td>\n",
       "      <td>3.48</td>\n",
       "      <td>1619.00</td>\n",
       "      <td>NaN</td>\n",
       "      <td>20200726001723</td>\n",
       "      <td>NaN</td>\n",
       "      <td>465330.4349</td>\n",
       "      <td>995668.46635</td>\n",
       "    </tr>\n",
       "    <tr>\n",
       "      <th>1</th>\n",
       "      <td>f4339062-d3c1-4616-b5f8-eec46594461f</td>\n",
       "      <td>Addis Ababa</td>\n",
       "      <td>65.88</td>\n",
       "      <td>28.20</td>\n",
       "      <td>5.47</td>\n",
       "      <td>8280.46</td>\n",
       "      <td>single family residential</td>\n",
       "      <td>24.18</td>\n",
       "      <td>4.53</td>\n",
       "      <td>1513.81</td>\n",
       "      <td>NaN</td>\n",
       "      <td>20200726001723</td>\n",
       "      <td>NaN</td>\n",
       "      <td>465639.7500</td>\n",
       "      <td>991394.75000</td>\n",
       "    </tr>\n",
       "    <tr>\n",
       "      <th>2</th>\n",
       "      <td>66632445-cd35-4990-9ac7-cd90a6d93d93</td>\n",
       "      <td>Addis Ababa</td>\n",
       "      <td>187.25</td>\n",
       "      <td>83.59</td>\n",
       "      <td>16.22</td>\n",
       "      <td>24485.41</td>\n",
       "      <td>peri-urban settlement</td>\n",
       "      <td>13.81</td>\n",
       "      <td>4.32</td>\n",
       "      <td>1510.00</td>\n",
       "      <td>NaN</td>\n",
       "      <td>20200726001723</td>\n",
       "      <td>NaN</td>\n",
       "      <td>467833.7500</td>\n",
       "      <td>995783.50000</td>\n",
       "    </tr>\n",
       "  </tbody>\n",
       "</table>\n",
       "</div>"
      ],
      "text/plain": [
       "                                   uuid         City  Surface_area  \\\n",
       "0  69ec4f04-ab53-4df7-8ac9-d2bbe3d54bf0  Addis Ababa        103.80   \n",
       "1  f4339062-d3c1-4616-b5f8-eec46594461f  Addis Ababa         65.88   \n",
       "2  66632445-cd35-4990-9ac7-cd90a6d93d93  Addis Ababa        187.25   \n",
       "\n",
       "   Potential_installable_area  Peak_installable_capacity  \\\n",
       "0                       60.43                      11.71   \n",
       "1                       28.20                       5.47   \n",
       "2                       83.59                      16.22   \n",
       "\n",
       "   Energy_potential_per_year      Assumed_building_type  Estimated_tilt  \\\n",
       "0                   18962.27  single family residential            8.49   \n",
       "1                    8280.46  single family residential           24.18   \n",
       "2                   24485.41      peri-urban settlement           13.81   \n",
       "\n",
       "   Estimated_building_height  Estimated_capacity_factor  \\\n",
       "0                       3.48                    1619.00   \n",
       "1                       4.53                    1513.81   \n",
       "2                       4.32                    1510.00   \n",
       "\n",
       "   Unit_installation_price      Date_added  Comment    _inside_x     _inside_y  \n",
       "0                      NaN  20200726001723      NaN  465330.4349  995668.46635  \n",
       "1                      NaN  20200726001723      NaN  465639.7500  991394.75000  \n",
       "2                      NaN  20200726001723      NaN  467833.7500  995783.50000  "
      ]
     },
     "execution_count": 65,
     "metadata": {},
     "output_type": "execute_result"
    }
   ],
   "source": [
    "# preview the first 3 rows\n",
    "data.head(3)"
   ]
  },
  {
   "cell_type": "code",
   "execution_count": 66,
   "metadata": {},
   "outputs": [
    {
     "data": {
      "text/plain": [
       "(100, 15)"
      ]
     },
     "execution_count": 66,
     "metadata": {},
     "output_type": "execute_result"
    }
   ],
   "source": [
    "# check for the shape (rows and columns)\n",
    "data.shape"
   ]
  },
  {
   "cell_type": "code",
   "execution_count": 67,
   "metadata": {},
   "outputs": [
    {
     "name": "stdout",
     "output_type": "stream",
     "text": [
      "uuid                            0\n",
      "City                            0\n",
      "Surface_area                    0\n",
      "Potential_installable_area      0\n",
      "Peak_installable_capacity       0\n",
      "Energy_potential_per_year       0\n",
      "Assumed_building_type           0\n",
      "Estimated_tilt                  0\n",
      "Estimated_building_height       0\n",
      "Estimated_capacity_factor       9\n",
      "Unit_installation_price       100\n",
      "Date_added                      0\n",
      "Comment                       100\n",
      "_inside_x                       0\n",
      "_inside_y                       0\n",
      "dtype: int64\n"
     ]
    }
   ],
   "source": [
    "# check for null values \n",
    "print(data.isna().sum())\n"
   ]
  },
  {
   "cell_type": "markdown",
   "metadata": {},
   "source": [
    "From the above output, we have null and missing values from our features. The estimated capacity factor has 9 null values while while both unit installation price and comment have 100 missing values each. "
   ]
  },
  {
   "cell_type": "code",
   "execution_count": 68,
   "metadata": {},
   "outputs": [
    {
     "name": "stdout",
     "output_type": "stream",
     "text": [
      "<class 'pandas.core.frame.DataFrame'>\n",
      "RangeIndex: 100 entries, 0 to 99\n",
      "Data columns (total 15 columns):\n",
      " #   Column                      Non-Null Count  Dtype  \n",
      "---  ------                      --------------  -----  \n",
      " 0   uuid                        100 non-null    object \n",
      " 1   City                        100 non-null    object \n",
      " 2   Surface_area                100 non-null    float64\n",
      " 3   Potential_installable_area  100 non-null    float64\n",
      " 4   Peak_installable_capacity   100 non-null    float64\n",
      " 5   Energy_potential_per_year   100 non-null    float64\n",
      " 6   Assumed_building_type       100 non-null    object \n",
      " 7   Estimated_tilt              100 non-null    float64\n",
      " 8   Estimated_building_height   100 non-null    float64\n",
      " 9   Estimated_capacity_factor   91 non-null     float64\n",
      " 10  Unit_installation_price     0 non-null      float64\n",
      " 11  Date_added                  100 non-null    int64  \n",
      " 12  Comment                     0 non-null      float64\n",
      " 13  _inside_x                   100 non-null    float64\n",
      " 14  _inside_y                   100 non-null    float64\n",
      "dtypes: float64(11), int64(1), object(3)\n",
      "memory usage: 11.8+ KB\n"
     ]
    }
   ],
   "source": [
    "# preview the information of our data\n",
    "data.info()"
   ]
  },
  {
   "cell_type": "markdown",
   "metadata": {},
   "source": [
    "## Data Cleaning and Preprocessing\n",
    "Clean the data by either removing or imputing null values, removing non-important features to our course and converting our target variable to categorical since it is countinous.\n",
    "\n",
    "### imputing missing values for estimated capacity factor\n",
    "first plot a histogram to check for distribution and skewness  "
   ]
  },
  {
   "cell_type": "code",
   "execution_count": 69,
   "metadata": {},
   "outputs": [
    {
     "data": {
      "image/png": "[encoded data removed]",
      "text/plain": [
       "<Figure size 576x432 with 1 Axes>"
      ]
     },
     "metadata": {
      "needs_background": "light"
     },
     "output_type": "display_data"
    }
   ],
   "source": [
    "# plot a histogram to check distibution and skewness \n",
    "plt.figure(figsize=(8, 6))\n",
    "sns.histplot(data[\"Estimated_capacity_factor\"].dropna(), kde=True)\n",
    "plt.title('Distribution of Estimated capacity factor')\n",
    "plt.xlabel('Estimated capacity factor')\n",
    "plt.ylabel('Frequency')\n",
    "plt.show()\n"
   ]
  },
  {
   "cell_type": "markdown",
   "metadata": {},
   "source": [
    "### Observation\n",
    "The values here are negatively skewed and hence the mean is less than the median and nor normally distributed. We will therefore impute the missing values using the median. "
   ]
  },
  {
   "cell_type": "code",
   "execution_count": 70,
   "metadata": {},
   "outputs": [],
   "source": [
    "# replace missing values in estimated capacity factor with the median\n",
    "data[\"Estimated_capacity_factor\"]= data[\"Estimated_capacity_factor\"].fillna(data[\"Estimated_capacity_factor\"].median())"
   ]
  },
  {
   "cell_type": "code",
   "execution_count": 71,
   "metadata": {},
   "outputs": [
    {
     "name": "stdout",
     "output_type": "stream",
     "text": [
      "<class 'pandas.core.frame.DataFrame'>\n",
      "RangeIndex: 100 entries, 0 to 99\n",
      "Data columns (total 15 columns):\n",
      " #   Column                      Non-Null Count  Dtype  \n",
      "---  ------                      --------------  -----  \n",
      " 0   uuid                        100 non-null    object \n",
      " 1   City                        100 non-null    object \n",
      " 2   Surface_area                100 non-null    float64\n",
      " 3   Potential_installable_area  100 non-null    float64\n",
      " 4   Peak_installable_capacity   100 non-null    float64\n",
      " 5   Energy_potential_per_year   100 non-null    float64\n",
      " 6   Assumed_building_type       100 non-null    object \n",
      " 7   Estimated_tilt              100 non-null    float64\n",
      " 8   Estimated_building_height   100 non-null    float64\n",
      " 9   Estimated_capacity_factor   100 non-null    float64\n",
      " 10  Unit_installation_price     0 non-null      float64\n",
      " 11  Date_added                  100 non-null    int64  \n",
      " 12  Comment                     0 non-null      float64\n",
      " 13  _inside_x                   100 non-null    float64\n",
      " 14  _inside_y                   100 non-null    float64\n",
      "dtypes: float64(11), int64(1), object(3)\n",
      "memory usage: 11.8+ KB\n"
     ]
    }
   ],
   "source": [
    "data.info()"
   ]
  },
  {
   "cell_type": "code",
   "execution_count": 72,
   "metadata": {},
   "outputs": [],
   "source": [
    "# drop columns with too many null values \n",
    "data.drop(columns=[\"Comment\",\"Unit_installation_price\"], inplace=True, axis=1)"
   ]
  },
  {
   "cell_type": "code",
   "execution_count": 73,
   "metadata": {},
   "outputs": [],
   "source": [
    "# drop non-essential columns \n",
    "data.drop(columns=[\"_inside_y\", \"_inside_x\", \"uuid\", \"Date_added\"], inplace =True)"
   ]
  },
  {
   "cell_type": "code",
   "execution_count": 74,
   "metadata": {},
   "outputs": [
    {
     "name": "stdout",
     "output_type": "stream",
     "text": [
      "<class 'pandas.core.frame.DataFrame'>\n",
      "RangeIndex: 100 entries, 0 to 99\n",
      "Data columns (total 9 columns):\n",
      " #   Column                      Non-Null Count  Dtype  \n",
      "---  ------                      --------------  -----  \n",
      " 0   City                        100 non-null    object \n",
      " 1   Surface_area                100 non-null    float64\n",
      " 2   Potential_installable_area  100 non-null    float64\n",
      " 3   Peak_installable_capacity   100 non-null    float64\n",
      " 4   Energy_potential_per_year   100 non-null    float64\n",
      " 5   Assumed_building_type       100 non-null    object \n",
      " 6   Estimated_tilt              100 non-null    float64\n",
      " 7   Estimated_building_height   100 non-null    float64\n",
      " 8   Estimated_capacity_factor   100 non-null    float64\n",
      "dtypes: float64(7), object(2)\n",
      "memory usage: 7.2+ KB\n"
     ]
    }
   ],
   "source": [
    "data.info()"
   ]
  },
  {
   "cell_type": "code",
   "execution_count": 78,
   "metadata": {},
   "outputs": [
    {
     "name": "stdout",
     "output_type": "stream",
     "text": [
      "                            Surface_area  Potential_installable_area  \\\n",
      "Surface_area                    1.000000                    0.979047   \n",
      "Potential_installable_area      0.979047                    1.000000   \n",
      "Peak_installable_capacity       0.979074                    1.000000   \n",
      "Energy_potential_per_year       0.971633                    0.997818   \n",
      "Estimated_tilt                  0.158336                    0.084706   \n",
      "Estimated_building_height       0.127286                    0.107255   \n",
      "Estimated_capacity_factor      -0.122722                   -0.045451   \n",
      "\n",
      "                            Peak_installable_capacity  \\\n",
      "Surface_area                                 0.979074   \n",
      "Potential_installable_area                   1.000000   \n",
      "Peak_installable_capacity                    1.000000   \n",
      "Energy_potential_per_year                    0.997812   \n",
      "Estimated_tilt                               0.084722   \n",
      "Estimated_building_height                    0.107371   \n",
      "Estimated_capacity_factor                   -0.045426   \n",
      "\n",
      "                            Energy_potential_per_year  Estimated_tilt  \\\n",
      "Surface_area                                 0.971633        0.158336   \n",
      "Potential_installable_area                   0.997818        0.084706   \n",
      "Peak_installable_capacity                    0.997812        0.084722   \n",
      "Energy_potential_per_year                    1.000000        0.065136   \n",
      "Estimated_tilt                               0.065136        1.000000   \n",
      "Estimated_building_height                    0.113796        0.097643   \n",
      "Estimated_capacity_factor                   -0.003534       -0.516213   \n",
      "\n",
      "                            Estimated_building_height  \\\n",
      "Surface_area                                 0.127286   \n",
      "Potential_installable_area                   0.107255   \n",
      "Peak_installable_capacity                    0.107371   \n",
      "Energy_potential_per_year                    0.113796   \n",
      "Estimated_tilt                               0.097643   \n",
      "Estimated_building_height                    1.000000   \n",
      "Estimated_capacity_factor                    0.033342   \n",
      "\n",
      "                            Estimated_capacity_factor  \n",
      "Surface_area                                -0.122722  \n",
      "Potential_installable_area                  -0.045451  \n",
      "Peak_installable_capacity                   -0.045426  \n",
      "Energy_potential_per_year                   -0.003534  \n",
      "Estimated_tilt                              -0.516213  \n",
      "Estimated_building_height                    0.033342  \n",
      "Estimated_capacity_factor                    1.000000  \n"
     ]
    },
    {
     "data": {
      "image/png": "[encoded data removed]",
      "text/plain": [
       "<Figure size 864x576 with 2 Axes>"
      ]
     },
     "metadata": {
      "needs_background": "light"
     },
     "output_type": "display_data"
    }
   ],
   "source": [
    "corr_matrix = data.corr()\n",
    "print(corr_matrix)\n",
    "# Plot the correlation matrix\n",
    "plt.figure(figsize=(12, 8))\n",
    "sns.heatmap(corr_matrix, annot=True, cmap=\"coolwarm\", fmt=\".2f\", linewidths=0.5)\n",
    "plt.title(\"Correlation Matrix\")\n",
    "plt.show()"
   ]
  },
  {
   "cell_type": "markdown",
   "metadata": {},
   "source": [
    "Our target variable is continous and therefore for the puporse of this study modelling a classification problem, we will convert it into a category of low, medium and high energy potential estimates. "
   ]
  },
  {
   "cell_type": "code",
   "execution_count": null,
   "metadata": {},
   "outputs": [],
   "source": [
    "# bins = [0, 500, 50000, float('inf')] \n",
    "# labels = ['Low', 'Medium', 'High']\n",
    "\n",
    "# # Create a new column 'Energy_category' for classification\n",
    "# data['Energy_category'] = pd.cut(data['Energy_potential_per_year'], bins=bins, labels=labels)"
   ]
  }
 ],
 "metadata": {
  "kernelspec": {
   "display_name": "learn-env",
   "language": "python",
   "name": "python3"
  },
  "language_info": {
   "codemirror_mode": {
    "name": "ipython",
    "version": 3
   },
   "file_extension": ".py",
   "mimetype": "text/x-python",
   "name": "python",
   "nbconvert_exporter": "python",
   "pygments_lexer": "ipython3",
   "version": "3.8.5"
  }
 },
 "nbformat": 4,
 "nbformat_minor": 2
}
